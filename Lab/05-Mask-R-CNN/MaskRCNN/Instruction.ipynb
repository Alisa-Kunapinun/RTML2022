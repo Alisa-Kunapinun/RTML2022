{
 "metadata": {
  "language_info": {
   "codemirror_mode": {
    "name": "ipython",
    "version": 3
   },
   "file_extension": ".py",
   "mimetype": "text/x-python",
   "name": "python",
   "nbconvert_exporter": "python",
   "pygments_lexer": "ipython3",
   "version": 3
  },
  "orig_nbformat": 2
 },
 "nbformat": 4,
 "nbformat_minor": 2,
 "cells": [
  {
   "source": [
    "Reference of the code: https://github.com/Okery/PyTorch-Simple-MaskRCNN\n",
    "\n",
    "Use \"train.py\" to train and the code.\n",
    "\n",
    "- dataset - available now: coco, voc. I have prepared the cityscapes class for students to modify (but do nothing)\n",
    "- data-dir - I am using my path, so please change the path\n",
    "- epoch - number of looping dataset\n",
    "- iters - max iteration per epoch, should write -1 for train all dataset.\n",
    "- use-cuda - check at the line 13 to change cuda slot."
   ],
   "cell_type": "markdown",
   "metadata": {}
  },
  {
   "source": [
    "I have added fifty-one.py to download the dataset\n",
    "- change the dataset name correctly is better\n",
    "- when I download the dataset, the data path may not ok for the code, you just change the dataset folder name and everything will be fine.\n",
    "- City scapes need to download manually and extract by the code.\n",
    "\n",
    "https://voxel51.com/docs/fiftyone/user_guide/dataset_zoo/datasets.html#dataset-zoo-cityscapes"
   ],
   "cell_type": "markdown",
   "metadata": {}
  },
  {
   "cell_type": "code",
   "execution_count": null,
   "metadata": {},
   "outputs": [],
   "source": []
  }
 ]
}